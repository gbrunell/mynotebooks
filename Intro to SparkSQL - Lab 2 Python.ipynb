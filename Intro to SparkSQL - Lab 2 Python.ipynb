{
 "cells": [
  {
   "cell_type": "markdown",
   "metadata": {},
   "source": [
    "# Lab 2 - Spark SQL\n",
    "This Lab will show you how to work with Spark SQL\n"
   ]
  },
  {
   "cell_type": "markdown",
   "metadata": {},
   "source": [
    "#Step 1\n",
    "\n",
    "<h3>Getting started: Create a SQL Context</h3>\n",
    "\n",
    "<b>Type:</b>\n",
    "\n",
    "\n",
    "from pyspark.sql import SQLContext<br>\n",
    "sqlContext = SQLContext(sc)\n"
   ]
  },
  {
   "cell_type": "code",
   "execution_count": 1,
   "metadata": {
    "collapsed": true
   },
   "outputs": [],
   "source": [
    "#Create the SQLContext below:\n"
   ]
  },
  {
   "cell_type": "markdown",
   "metadata": {},
   "source": [
    "#Step 2\n",
    "\n",
    "<h3>Dowload a JSON Recordset to work with</h3>"
   ]
  },
  {
   "cell_type": "markdown",
   "metadata": {},
   "source": [
    "Let's download the data, we can run commands on the console of the server (or docker image) that the notebook enviroment is using. To do so we simply put a \"!\" in front of the command that we want to run. For example:\n",
    "\n",
    "!pwd\n",
    "\n",
    "To get the data we will download a file to the enviroment. Simple run these two commands, the first just ensures that the file is removed if it exists:\n",
    "\n",
    "!rm world_bank.json.gz -f <br>\n",
    "!wget https://raw.githubusercontent.com/bradenrc/sparksql_pot/master/world_bank.json.gz"
   ]
  },
  {
   "cell_type": "code",
   "execution_count": 3,
   "metadata": {
    "collapsed": false
   },
   "outputs": [],
   "source": [
    "#enter the commands to remove and download file here\n"
   ]
  },
  {
   "cell_type": "markdown",
   "metadata": {},
   "source": [
    "#Step 3\n",
    "<h3>Create a Dataframe</h3>\n",
    "\n",
    "Now you can create the Dataframe, note that if you wanted to see where you downloaded the file you can run !pwd or !ls\n",
    "\n",
    "To create the Dataframe type:\n",
    "\n",
    "example1_df = sqlContext.read.json(\"./world_bank.json.gz\")\n"
   ]
  },
  {
   "cell_type": "code",
   "execution_count": 6,
   "metadata": {
    "collapsed": false
   },
   "outputs": [],
   "source": [
    "#create the Dataframe here:\n"
   ]
  },
  {
   "cell_type": "markdown",
   "metadata": {},
   "source": [
    "<h3>We can look at the schema with this command:</h3>\n",
    "\n",
    "example1_df.printSchema()"
   ]
  },
  {
   "cell_type": "code",
   "execution_count": 7,
   "metadata": {
    "collapsed": false
   },
   "outputs": [],
   "source": [
    "#print out the schema\n",
    "\n"
   ]
  },
  {
   "cell_type": "markdown",
   "metadata": {},
   "source": [
    "<h3>Dataframes work like RDDs, you can map, reduce, groupby, etc. \n",
    "<br>Take a look at the first two rows of data using \"take\"</h3>\n",
    "\n"
   ]
  },
  {
   "cell_type": "code",
   "execution_count": 9,
   "metadata": {
    "collapsed": false
   },
   "outputs": [],
   "source": [
    "#Use take on the dataframe to pull out 2 rows\n"
   ]
  },
  {
   "cell_type": "markdown",
   "metadata": {},
   "source": [
    "#Step 4 \n",
    "<h3>Register a table</h3>\n",
    "\n",
    "Using\n",
    "DataframeObject.registerTempTable(\"name_of_table\")\n",
    "\n",
    "Create a table named \"world_bank\""
   ]
  },
  {
   "cell_type": "code",
   "execution_count": 11,
   "metadata": {
    "collapsed": false
   },
   "outputs": [],
   "source": [
    "#Create the table to be referenced via SQL\n"
   ]
  },
  {
   "cell_type": "markdown",
   "metadata": {},
   "source": [
    "#Step 5\n",
    "<h3>Writing SQL Statements</h3>\n",
    "Using SQL Get the first 2 records\n",
    "sqlContext.sql(\"SQL Statement\") will return a Dataframe with the records"
   ]
  },
  {
   "cell_type": "code",
   "execution_count": 1,
   "metadata": {
    "collapsed": false
   },
   "outputs": [],
   "source": [
    "#Use SQL to select from table limit 2 and print the output"
   ]
  },
  {
   "cell_type": "code",
   "execution_count": 2,
   "metadata": {
    "collapsed": false
   },
   "outputs": [],
   "source": [
    "#Extra credit, take the Dataframe you created with the two records and convert it into Pandas"
   ]
  },
  {
   "cell_type": "code",
   "execution_count": 3,
   "metadata": {
    "collapsed": false
   },
   "outputs": [],
   "source": [
    "#Now Calculate a Simple count based on a group, for example \"regionname\""
   ]
  },
  {
   "cell_type": "code",
   "execution_count": 12,
   "metadata": {
    "collapsed": false
   },
   "outputs": [
    {
     "name": "stdout",
     "output_type": "stream",
     "text": [
      "[Row(id=u'P129828', Name=[u'Primary education', u'Secondary education', u'Public administration- Other social services', u'Tertiary education']), Row(id=u'P144674', Name=[u'Public administration- Other social services', u'General public administration sector'])]\n"
     ]
    }
   ],
   "source": [
    "# With JSON data you can reference the nested data\n",
    "# If you look at Schema above you can see that Sector.Name is a nested column\n",
    "# Select that column and limit to reasonable output (like 2)\n",
    "\n",
    "print sqlContext.sql(\"select id, sector.Name from world_bank limit 2\").collect()"
   ]
  },
  {
   "cell_type": "markdown",
   "metadata": {},
   "source": [
    "#Step 6\n",
    "\n",
    "<h3>Creating simple graphs</h3>\n",
    "Using Pandas we can do create some simple visualizations."
   ]
  },
  {
   "cell_type": "markdown",
   "metadata": {},
   "source": [
    "####First create a SQL statement that is a resonable number if items\n",
    "For example, you can count the number of projects (rows) by countryname\n",
    "<br>or in anothe words: \n",
    "<br>count(*), countryname from table group by countryname\n"
   ]
  },
  {
   "cell_type": "code",
   "execution_count": 21,
   "metadata": {
    "collapsed": true
   },
   "outputs": [],
   "source": [
    "# we need to tell the charting library (matplotlib) to display charts inline\n",
    "# just run this paragraph\n",
    "%matplotlib inline \n",
    "import matplotlib.pyplot as plt, numpy as np"
   ]
  },
  {
   "cell_type": "code",
   "execution_count": 22,
   "metadata": {
    "collapsed": false
   },
   "outputs": [],
   "source": [
    "# first write the sql statment and look at the data, remember to add .toPandas() to have it look nice\n",
    "# an even easier option is to create a variable and set it to the SQL statement\n",
    "# for example: \n",
    "# query = \"select count(*) as Count, countryname from world_bank group by countryname\"\n",
    "# chart1_df = sqlContext.sql(query).toPandas()\n",
    "# print chart1_df"
   ]
  },
  {
   "cell_type": "code",
   "execution_count": 23,
   "metadata": {
    "collapsed": false
   },
   "outputs": [],
   "source": [
    "# now take the variable (or same sql statement) and use the method:\n",
    "# .plot(kind='bar', x='countryname', y='Count', figsize=(12, 5))\n"
   ]
  }
 ],
 "metadata": {
  "kernelspec": {
   "display_name": "Python 2",
   "language": "python",
   "name": "python2"
  },
  "language_info": {
   "codemirror_mode": {
    "name": "ipython",
    "version": 2
   },
   "file_extension": ".py",
   "mimetype": "text/x-python",
   "name": "python",
   "nbconvert_exporter": "python",
   "pygments_lexer": "ipython2",
   "version": "2.7.9"
  }
 },
 "nbformat": 4,
 "nbformat_minor": 0
}