{
 "cells": [
  {
   "cell_type": "markdown",
   "metadata": {},
   "source": [
    "# Lab 2 - Spark SQL\n",
    "This Lab will show you how to work with Spark SQL\n"
   ]
  },
  {
   "cell_type": "markdown",
   "metadata": {},
   "source": [
    "#Step 1\n",
    "\n",
    "<h3>Getting started: Create a SQL Context</h3>\n",
    "\n",
    "<b>Type:</b>\n",
    "\n",
    "val sqlContext = new org.apache.spark.sql.SQLContext(sc)"
   ]
  },
  {
   "cell_type": "code",
   "execution_count": 1,
   "metadata": {
    "collapsed": false
   },
   "outputs": [
    {
     "data": {
      "text/plain": []
     },
     "metadata": {},
     "output_type": "display_data"
    }
   ],
   "source": [
    "classpath.addPath(\"/usr/iop/4.1.0.0/spark1.6/lib/spark-assembly.jar\")"
   ]
  },
  {
   "cell_type": "code",
   "execution_count": 2,
   "metadata": {
    "collapsed": false
   },
   "outputs": [
    {
     "name": "stderr",
     "output_type": "stream",
     "text": [
      "Using Spark's default log4j profile: org/apache/spark/log4j-defaults.properties\n",
      "16/03/29 08:53:35 INFO SparkContext: Running Spark version 1.6.1\n",
      "16/03/29 08:53:35 WARN NativeCodeLoader: Unable to load native-hadoop library for your platform... using builtin-java classes where applicable\n",
      "16/03/29 08:53:35 INFO SecurityManager: Changing view acls to: root\n",
      "16/03/29 08:53:35 INFO SecurityManager: Changing modify acls to: root\n",
      "16/03/29 08:53:35 INFO SecurityManager: SecurityManager: authentication disabled; ui acls disabled; users with view permissions: Set(root); users with modify permissions: Set(root)\n",
      "16/03/29 08:53:35 INFO Utils: Successfully started service 'sparkDriver' on port 51213.\n",
      "16/03/29 08:53:36 INFO Slf4jLogger: Slf4jLogger started\n",
      "16/03/29 08:53:36 INFO Remoting: Starting remoting\n",
      "16/03/29 08:53:36 INFO Remoting: Remoting started; listening on addresses :[akka.tcp://sparkDriverActorSystem@192.168.176.137:54193]\n",
      "16/03/29 08:53:36 INFO Utils: Successfully started service 'sparkDriverActorSystem' on port 54193.\n",
      "16/03/29 08:53:36 INFO SparkEnv: Registering MapOutputTracker\n",
      "16/03/29 08:53:36 INFO SparkEnv: Registering BlockManagerMaster\n",
      "16/03/29 08:53:36 INFO DiskBlockManager: Created local directory at /tmp/blockmgr-33f2737f-2a97-47d9-9830-e194e9fdf5dc\n",
      "16/03/29 08:53:36 INFO MemoryStore: MemoryStore started with capacity 2.4 GB\n",
      "16/03/29 08:53:36 INFO SparkEnv: Registering OutputCommitCoordinator\n",
      "16/03/29 08:53:37 INFO Utils: Successfully started service 'SparkUI' on port 4040.\n",
      "16/03/29 08:53:37 INFO SparkUI: Started SparkUI at http://192.168.176.137:4040\n",
      "16/03/29 08:53:37 INFO Executor: Starting executor ID driver on host localhost\n",
      "16/03/29 08:53:37 INFO Utils: Successfully started service 'org.apache.spark.network.netty.NettyBlockTransferService' on port 53961.\n",
      "16/03/29 08:53:37 INFO NettyBlockTransferService: Server created on 53961\n",
      "16/03/29 08:53:37 INFO BlockManagerMaster: Trying to register BlockManager\n",
      "16/03/29 08:53:37 INFO BlockManagerMasterEndpoint: Registering block manager localhost:53961 with 2.4 GB RAM, BlockManagerId(driver, localhost, 53961)\n",
      "16/03/29 08:53:37 INFO BlockManagerMaster: Registered BlockManager\n"
     ]
    },
    {
     "data": {
      "text/plain": [
       "\u001b[32mimport \u001b[36morg.apache.spark.SparkConf\u001b[0m\n",
       "\u001b[32mimport \u001b[36morg.apache.spark.SparkContext\u001b[0m\n",
       "\u001b[32mimport \u001b[36morg.apache.spark.SparkContext._\u001b[0m\n",
       "\u001b[36mconf\u001b[0m: org.apache.spark.SparkConf = org.apache.spark.SparkConf@56fba576\n",
       "\u001b[36msc\u001b[0m: org.apache.spark.SparkContext = org.apache.spark.SparkContext@51b38e66"
      ]
     },
     "metadata": {},
     "output_type": "display_data"
    }
   ],
   "source": [
    "import org.apache.spark.SparkConf\n",
    "import org.apache.spark.SparkContext\n",
    "import org.apache.spark.SparkContext._\n",
    "val conf = new SparkConf().setMaster(\"local[*]\").setAppName(\"sparkscala\")\n",
    "val sc = new SparkContext(conf)"
   ]
  },
  {
   "cell_type": "code",
   "execution_count": 3,
   "metadata": {
    "collapsed": false
   },
   "outputs": [
    {
     "data": {
      "text/plain": [
       "\u001b[36msqlContext\u001b[0m: org.apache.spark.sql.SQLContext = org.apache.spark.sql.SQLContext@36632d0a"
      ]
     },
     "metadata": {},
     "output_type": "display_data"
    }
   ],
   "source": [
    "//Create the SQLContext below:\n",
    "val sqlContext = new org.apache.spark.sql.SQLContext(sc)"
   ]
  },
  {
   "cell_type": "markdown",
   "metadata": {},
   "source": [
    "#Step 2\n",
    "\n",
    "<h3>Dowload a JSON Recordset to work with</h3>"
   ]
  },
  {
   "cell_type": "markdown",
   "metadata": {},
   "source": [
    "Let's download the data, we can run commands on the console of the server (or docker image) that the notebook enviroment is using. To do so we simply \"import sys.process._\" and then enter the command in quotes followed by !.\n",
    "\n",
    "To get the data we will download a file to the enviroment. Simple run these commands, the second just ensures that the file is removed if it exists.\n",
    "\n",
    "<b>Type:</b>\n",
    "\n",
    "import sys.process._<br>\n",
    "\"rm world_bank.json.gz -f\" !<br>\n",
    "\"wget https://raw.githubusercontent.com/bradenrc/sparksql_pot/master/world_bank.json.gz\" !"
   ]
  },
  {
   "cell_type": "code",
   "execution_count": 4,
   "metadata": {
    "collapsed": false
   },
   "outputs": [
    {
     "data": {
      "text/plain": [
       "\u001b[32mimport \u001b[36msys.process._\u001b[0m\n",
       "\u001b[36mres3_1\u001b[0m: Int = \u001b[32m0\u001b[0m"
      ]
     },
     "metadata": {},
     "output_type": "display_data"
    }
   ],
   "source": [
    "//enter the commands to remove and download file here\n",
    "import sys.process._\n",
    "\"rm world_bank.json.gz -f\" !"
   ]
  },
  {
   "cell_type": "code",
   "execution_count": 5,
   "metadata": {
    "collapsed": false
   },
   "outputs": [
    {
     "name": "stderr",
     "output_type": "stream",
     "text": [
      "--2016-03-29 08:53:48--  https://raw.githubusercontent.com/bradenrc/sparksql_pot/master/world_bank.json.gz\n",
      "Resolving raw.githubusercontent.com... 23.235.44.133\n",
      "Connecting to raw.githubusercontent.com|23.235.44.133|:443... connected.\n",
      "HTTP request sent, awaiting response... 200 OK\n",
      "Length: 446287 (436K) [application/octet-stream]\n",
      "Saving to: “world_bank.json.gz”\n",
      "\n",
      "     0K .......... .......... .......... .......... .......... 11%  693K 1s\n",
      "    50K .......... .......... .......... .......... .......... 22%  731K 0s\n",
      "   100K .......... .......... .......... .......... .......... 34% 1.04M 0s\n",
      "   150K .......... .......... .......... .......... .......... 45% 1.75M 0s\n",
      "   200K .......... .......... .......... .......... .......... 57%  808K 0s\n",
      "   250K .......... .......... .......... .......... .......... 68%  941K 0s\n",
      "   300K .......... .......... .......... .......... .......... 80% 1.06M 0s\n",
      "   350K .......... .......... .......... .......... .......... 91%  809K 0s\n",
      "   400K .......... .......... .......... .....                100% 1.59M=0.5s\n",
      "\n",
      "2016-03-29 08:53:49 (947 KB/s) - “world_bank.json.gz” saved [446287/446287]\n",
      "\n"
     ]
    },
    {
     "data": {
      "text/plain": [
       "\u001b[36mres4\u001b[0m: Int = \u001b[32m0\u001b[0m"
      ]
     },
     "metadata": {},
     "output_type": "display_data"
    }
   ],
   "source": [
    "\"wget https://raw.githubusercontent.com/bradenrc/sparksql_pot/master/world_bank.json.gz\" !"
   ]
  },
  {
   "cell_type": "markdown",
   "metadata": {},
   "source": [
    "#Step 3\n",
    "<h3>Create a Dataframe</h3>\n",
    "\n",
    "Now you can create the Dataframe.\n",
    "\n",
    "To create the Dataframe type:\n",
    "\n",
    "val example1_df = sqlContext.read.json(\"/resources/world_bank.json.gz\")\n"
   ]
  },
  {
   "cell_type": "code",
   "execution_count": 6,
   "metadata": {
    "collapsed": false
   },
   "outputs": [
    {
     "data": {
      "text/plain": [
       "\u001b[36mexample1_df\u001b[0m: org.apache.spark.sql.DataFrame = [_id: struct<$oid:string>, approvalfy: string, board_approval_month: string, boardapprovaldate: string, borrower: string, closingdate: string, country_namecode: string, countrycode: string, countryname: string, countryshortname: string, docty: string, envassesmentcategorycode: string, grantamt: bigint, ibrdcommamt: bigint, id: string, idacommamt: bigint, impagency: string, lendinginstr: string, lendinginstrtype: string, lendprojectcost: bigint, majorsector_percent: array<struct<Name:string,Percent:bigint>>, mjsector_namecode: array<struct<code:string,name:string>>, mjtheme: array<string>, mjtheme_namecode: array<struct<code:string,name:string>>, mjthemecode: string, prodline: string, prodlinetext: string, productlinetype: string, project_abstract: struct<cdata:string>, project_name: string, projectdocs: array<struct<DocDate:string,DocType:string,DocTypeDesc:string,DocURL:string,EntityID:string>>, projectfinancialtype: string, projectstatusdisplay: string, regionname: string, sector: array<struct<Name:string>>, sector1: struct<Name:string,Percent:bigint>, sector2: struct<Name:string,Percent:bigint>, sector3: struct<Name:string,Percent:bigint>, sector4: struct<Name:string,Percent:bigint>, sector_namecode: array<struct<code:string,name:string>>, sectorcode: string, source: string, status: string, supplementprojectflg: string, theme1: struct<Name:string,Percent:bigint>, theme_namecode: array<struct<code:string,name:string>>, themecode: string, totalamt: bigint, totalcommamt: bigint, url: string]"
      ]
     },
     "metadata": {},
     "output_type": "display_data"
    }
   ],
   "source": [
    "//create the Dataframe here:\n",
    "val example1_df = sqlContext.read.json(\"file:///root/JupyterNotebooks/world_bank.json.gz\")"
   ]
  },
  {
   "cell_type": "markdown",
   "metadata": {},
   "source": [
    "<h3>We can look at the schema with this command:</h3>\n",
    "\n",
    "example1_df.printSchema()"
   ]
  },
  {
   "cell_type": "code",
   "execution_count": 7,
   "metadata": {
    "collapsed": false
   },
   "outputs": [
    {
     "name": "stdout",
     "output_type": "stream",
     "text": [
      "root\n",
      " |-- _id: struct (nullable = true)\n",
      " |    |-- $oid: string (nullable = true)\n",
      " |-- approvalfy: string (nullable = true)\n",
      " |-- board_approval_month: string (nullable = true)\n",
      " |-- boardapprovaldate: string (nullable = true)\n",
      " |-- borrower: string (nullable = true)\n",
      " |-- closingdate: string (nullable = true)\n",
      " |-- country_namecode: string (nullable = true)\n",
      " |-- countrycode: string (nullable = true)\n",
      " |-- countryname: string (nullable = true)\n",
      " |-- countryshortname: string (nullable = true)\n",
      " |-- docty: string (nullable = true)\n",
      " |-- envassesmentcategorycode: string (nullable = true)\n",
      " |-- grantamt: long (nullable = true)\n",
      " |-- ibrdcommamt: long (nullable = true)\n",
      " |-- id: string (nullable = true)\n",
      " |-- idacommamt: long (nullable = true)\n",
      " |-- impagency: string (nullable = true)\n",
      " |-- lendinginstr: string (nullable = true)\n",
      " |-- lendinginstrtype: string (nullable = true)\n",
      " |-- lendprojectcost: long (nullable = true)\n",
      " |-- majorsector_percent: array (nullable = true)\n",
      " |    |-- element: struct (containsNull = true)\n",
      " |    |    |-- Name: string (nullable = true)\n",
      " |    |    |-- Percent: long (nullable = true)\n",
      " |-- mjsector_namecode: array (nullable = true)\n",
      " |    |-- element: struct (containsNull = true)\n",
      " |    |    |-- code: string (nullable = true)\n",
      " |    |    |-- name: string (nullable = true)\n",
      " |-- mjtheme: array (nullable = true)\n",
      " |    |-- element: string (containsNull = true)\n",
      " |-- mjtheme_namecode: array (nullable = true)\n",
      " |    |-- element: struct (containsNull = true)\n",
      " |    |    |-- code: string (nullable = true)\n",
      " |    |    |-- name: string (nullable = true)\n",
      " |-- mjthemecode: string (nullable = true)\n",
      " |-- prodline: string (nullable = true)\n",
      " |-- prodlinetext: string (nullable = true)\n",
      " |-- productlinetype: string (nullable = true)\n",
      " |-- project_abstract: struct (nullable = true)\n",
      " |    |-- cdata: string (nullable = true)\n",
      " |-- project_name: string (nullable = true)\n",
      " |-- projectdocs: array (nullable = true)\n",
      " |    |-- element: struct (containsNull = true)\n",
      " |    |    |-- DocDate: string (nullable = true)\n",
      " |    |    |-- DocType: string (nullable = true)\n",
      " |    |    |-- DocTypeDesc: string (nullable = true)\n",
      " |    |    |-- DocURL: string (nullable = true)\n",
      " |    |    |-- EntityID: string (nullable = true)\n",
      " |-- projectfinancialtype: string (nullable = true)\n",
      " |-- projectstatusdisplay: string (nullable = true)\n",
      " |-- regionname: string (nullable = true)\n",
      " |-- sector: array (nullable = true)\n",
      " |    |-- element: struct (containsNull = true)\n",
      " |    |    |-- Name: string (nullable = true)\n",
      " |-- sector1: struct (nullable = true)\n",
      " |    |-- Name: string (nullable = true)\n",
      " |    |-- Percent: long (nullable = true)\n",
      " |-- sector2: struct (nullable = true)\n",
      " |    |-- Name: string (nullable = true)\n",
      " |    |-- Percent: long (nullable = true)\n",
      " |-- sector3: struct (nullable = true)\n",
      " |    |-- Name: string (nullable = true)\n",
      " |    |-- Percent: long (nullable = true)\n",
      " |-- sector4: struct (nullable = true)\n",
      " |    |-- Name: string (nullable = true)\n",
      " |    |-- Percent: long (nullable = true)\n",
      " |-- sector_namecode: array (nullable = true)\n",
      " |    |-- element: struct (containsNull = true)\n",
      " |    |    |-- code: string (nullable = true)\n",
      " |    |    |-- name: string (nullable = true)\n",
      " |-- sectorcode: string (nullable = true)\n",
      " |-- source: string (nullable = true)\n",
      " |-- status: string (nullable = true)\n",
      " |-- supplementprojectflg: string (nullable = true)\n",
      " |-- theme1: struct (nullable = true)\n",
      " |    |-- Name: string (nullable = true)\n",
      " |    |-- Percent: long (nullable = true)\n",
      " |-- theme_namecode: array (nullable = true)\n",
      " |    |-- element: struct (containsNull = true)\n",
      " |    |    |-- code: string (nullable = true)\n",
      " |    |    |-- name: string (nullable = true)\n",
      " |-- themecode: string (nullable = true)\n",
      " |-- totalamt: long (nullable = true)\n",
      " |-- totalcommamt: long (nullable = true)\n",
      " |-- url: string (nullable = true)\n",
      "\n"
     ]
    },
    {
     "data": {
      "text/plain": []
     },
     "metadata": {},
     "output_type": "display_data"
    }
   ],
   "source": [
    "//print out the schema\n",
    "example1_df.printSchema()"
   ]
  },
  {
   "cell_type": "markdown",
   "metadata": {},
   "source": [
    "<h3>Dataframes work like RDDs, you can map, reduce, groupby, etc. \n",
    "<br>Take a look at the first two rows of data using \"take\"</h3>\n",
    "\n",
    "<b>Type:</b>\n",
    "\n",
    "example1_df.take(2).foreach(println)"
   ]
  },
  {
   "cell_type": "code",
   "execution_count": 8,
   "metadata": {
    "collapsed": false
   },
   "outputs": [
    {
     "name": "stdout",
     "output_type": "stream",
     "text": [
      "[[52b213b38594d8a2be17c780],1999,November,2013-11-12T00:00:00Z,FEDERAL DEMOCRATIC REPUBLIC OF ETHIOPIA,2018-07-07T00:00:00Z,Federal Democratic Republic of Ethiopia!$!ET,ET,Federal Democratic Republic of Ethiopia,Ethiopia,Project Information Document,Indigenous Peoples Plan,Project Information Document,C,0,0,P129828,130000000,MINISTRY OF EDUCATION,Investment Project Financing,IN,550000000,WrappedArray([Education,46], [Education,26], [Public Administration, Law, and Justice,16], [Education,12]),WrappedArray([EX,Education], [EX,Education], [BX,Public Administration, Law, and Justice], [EX,Education]),WrappedArray(Human development),WrappedArray([8,Human development], [11,]),8,11,PE,IBRD/IDA,L,[The development objective of the Second Phase of General Education Quality Improvement Project for Ethiopia is to improve learning conditions in primary and secondary schools and strengthen institutions at different levels of educational administration. The project has six components. The first component is curriculum, textbooks, assessment, examinations, and inspection. This component will support improvement of learning conditions in grades KG-12 by providing increased access to teaching and learning materials and through improvements to the curriculum by assessing the strengths and weaknesses of the current curriculum. This component has following four sub-components: (i) curriculum reform and implementation; (ii) teaching and learning materials; (iii) assessment and examinations; and (iv) inspection. The second component is teacher development program (TDP). This component will support improvements in learning conditions in both primary and secondary schools by advancing the quality of teaching in general education through: (a) enhancing the training of pre-service teachers in teacher education institutions; and (b) improving the quality of in-service teacher training. This component has following three sub-components: (i) pre-service teacher training; (ii) in-service teacher training; and (iii) licensing and relicensing of teachers and school leaders. The third component is school improvement plan. This component will support the strengthening of school planning in order to improve learning outcomes, and to partly fund the school improvement plans through school grants. It has following two sub-components: (i) school improvement plan; and (ii) school grants. The fourth component is management and capacity building, including education management information systems (EMIS). This component will support management and capacity building aspect of the project. This component has following three sub-components: (i) capacity building for education planning and management; (ii) capacity building for school planning and management; and (iii) EMIS. The fifth component is improving the quality of learning and teaching in secondary schools and universities through the use of information and communications technology (ICT). It has following five sub-components: (i) national policy and institution for ICT in general education; (ii) national ICT infrastructure improvement plan for general education; (iii) develop an integrated monitoring, evaluation, and learning system specifically for the ICT component; (iv) teacher professional development in the use of ICT; and (v) provision of limited number of e-Braille display readers with the possibility to scale up to all secondary education schools based on the successful implementation and usage of the readers. The sixth component is program coordination, monitoring and evaluation, and communication. It will support institutional strengthening by developing capacities in all aspects of program coordination, monitoring and evaluation; a new sub-component on communications will support information sharing for better management and accountability. It has following three sub-components: (i) program coordination; (ii) monitoring and evaluation (M and E); and (iii) communication.],Ethiopia General Education Quality Improvement Project II,WrappedArray([28-AUG-2013,PID,Project Information Document (PID),  Vol.,http://www-wds.worldbank.org/servlet/WDSServlet?pcont=details&eid=090224b081e545fb_1_0,090224b081e545fb_1_0], [01-JUL-2013,IP,Indigenous Peoples Plan (IP),  Vol.1 of 1,http://www-wds.worldbank.org/servlet/WDSServlet?pcont=details&eid=000442464_20130920111729,000442464_20130920111729], [22-NOV-2012,PID,Project Information Document (PID),  Vol.,http://www-wds.worldbank.org/servlet/WDSServlet?pcont=details&eid=090224b0817b19e2_1_0,090224b0817b19e2_1_0]),IDA,Active,Africa,WrappedArray([Primary education], [Secondary education], [Public administration- Other social services], [Tertiary education]),[Primary education,46],[Secondary education,26],[Public administration- Other social services,16],[Tertiary education,12],WrappedArray([EP,Primary education], [ES,Secondary education], [BS,Public administration- Other social services], [ET,Tertiary education]),ET,BS,ES,EP,IBRD,Active,N,[Education for all,100],WrappedArray([65,Education for all]),65,130000000,130000000,http://www.worldbank.org/projects/P129828/ethiopia-general-education-quality-improvement-project-ii?lang=en]\n",
      "[[52b213b38594d8a2be17c781],2015,November,2013-11-04T00:00:00Z,GOVERNMENT OF TUNISIA,null,Republic of Tunisia!$!TN,TN,Republic of Tunisia,Tunisia,Project Information Document,Integrated Safeguards Data Sheet,Integrated Safeguards Data Sheet,Project Information Document,Integrated Safeguards Data Sheet,Project Information Document,C,4700000,0,P144674,0,MINISTRY OF FINANCE,Specific Investment Loan,IN,5700000,WrappedArray([Public Administration, Law, and Justice,70], [Public Administration, Law, and Justice,30]),WrappedArray([BX,Public Administration, Law, and Justice], [BX,Public Administration, Law, and Justice]),WrappedArray(Economic management, Social protection and risk management),WrappedArray([1,Economic management], [6,Social protection and risk management]),1,6,RE,Recipient Executed Activities,L,null,TN: DTF Social Protection Reforms Support,WrappedArray([29-MAR-2013,PID,Project Information Document (PID),  Vol.1 of 1,http://www-wds.worldbank.org/servlet/WDSServlet?pcont=details&eid=000333037_20131024115616,000333037_20131024115616], [29-MAR-2013,ISDS,Integrated Safeguards Data Sheet (ISDS),  Vol.1 of 1,http://www-wds.worldbank.org/servlet/WDSServlet?pcont=details&eid=000356161_20131024151611,000356161_20131024151611], [29-MAR-2013,ISDS,Integrated Safeguards Data Sheet (ISDS),  Vol.1 of 1,http://www-wds.worldbank.org/servlet/WDSServlet?pcont=details&eid=000442464_20131031112136,000442464_20131031112136], [29-MAR-2013,PID,Project Information Document (PID),  Vol.1 of 1,http://www-wds.worldbank.org/servlet/WDSServlet?pcont=details&eid=000333037_20131031105716,000333037_20131031105716], [16-JAN-2013,ISDS,Integrated Safeguards Data Sheet (ISDS),  Vol.1 of 1,http://www-wds.worldbank.org/servlet/WDSServlet?pcont=details&eid=000356161_20130305113209,000356161_20130305113209], [16-JAN-2013,PID,Project Information Document (PID),  Vol.1 of 1,http://www-wds.worldbank.org/servlet/WDSServlet?pcont=details&eid=000356161_20130305113716,000356161_20130305113716]),OTHER,Active,Middle East and North Africa,WrappedArray([Public administration- Other social services], [General public administration sector]),[Public administration- Other social services,70],[General public administration sector,30],null,null,WrappedArray([BS,Public administration- Other social services], [BZ,General public administration sector]),BZ,BS,IBRD,Active,N,[Other economic management,30],WrappedArray([24,Other economic management], [54,Social safety nets]),54,24,0,4700000,http://www.worldbank.org/projects/P144674?lang=en]\n"
     ]
    },
    {
     "data": {
      "text/plain": []
     },
     "metadata": {},
     "output_type": "display_data"
    }
   ],
   "source": [
    "//Use take on the dataframe to pull out 2 rows\n",
    "example1_df.take(2).foreach(println)"
   ]
  },
  {
   "cell_type": "markdown",
   "metadata": {},
   "source": [
    "#Step 4 \n",
    "<h3>Register a table</h3>\n",
    "\n",
    "Using\n",
    "DataframeObject.registerTempTable(\"name_of_table\")\n",
    "\n",
    "Create a table named \"world_bank\"\n",
    "\n",
    "<b>Type:</b>\n",
    "\n",
    "example1_df.registerTempTable(\"world_bank\")"
   ]
  },
  {
   "cell_type": "code",
   "execution_count": 9,
   "metadata": {
    "collapsed": false
   },
   "outputs": [
    {
     "data": {
      "text/plain": []
     },
     "metadata": {},
     "output_type": "display_data"
    }
   ],
   "source": [
    "//Create the table to be referenced via SQL\n",
    "example1_df.registerTempTable(\"world_bank\")"
   ]
  },
  {
   "cell_type": "markdown",
   "metadata": {},
   "source": [
    "#Step 5\n",
    "<h3>Writing SQL Statements</h3>\n",
    "Using SQL Get the first 2 records\n",
    "sqlContext.sql(\"SQL Statement\") will return a Dataframe with the records\n",
    "\n",
    "<b>Type:</b>\n",
    "\n",
    "sqlContext.sql(\"select * from world_bank limit 2\").collect().foreach(println)"
   ]
  },
  {
   "cell_type": "code",
   "execution_count": 10,
   "metadata": {
    "collapsed": false,
    "scrolled": true
   },
   "outputs": [
    {
     "name": "stdout",
     "output_type": "stream",
     "text": [
      "[[52b213b38594d8a2be17c780],1999,November,2013-11-12T00:00:00Z,FEDERAL DEMOCRATIC REPUBLIC OF ETHIOPIA,2018-07-07T00:00:00Z,Federal Democratic Republic of Ethiopia!$!ET,ET,Federal Democratic Republic of Ethiopia,Ethiopia,Project Information Document,Indigenous Peoples Plan,Project Information Document,C,0,0,P129828,130000000,MINISTRY OF EDUCATION,Investment Project Financing,IN,550000000,WrappedArray([Education,46], [Education,26], [Public Administration, Law, and Justice,16], [Education,12]),WrappedArray([EX,Education], [EX,Education], [BX,Public Administration, Law, and Justice], [EX,Education]),WrappedArray(Human development),WrappedArray([8,Human development], [11,]),8,11,PE,IBRD/IDA,L,[The development objective of the Second Phase of General Education Quality Improvement Project for Ethiopia is to improve learning conditions in primary and secondary schools and strengthen institutions at different levels of educational administration. The project has six components. The first component is curriculum, textbooks, assessment, examinations, and inspection. This component will support improvement of learning conditions in grades KG-12 by providing increased access to teaching and learning materials and through improvements to the curriculum by assessing the strengths and weaknesses of the current curriculum. This component has following four sub-components: (i) curriculum reform and implementation; (ii) teaching and learning materials; (iii) assessment and examinations; and (iv) inspection. The second component is teacher development program (TDP). This component will support improvements in learning conditions in both primary and secondary schools by advancing the quality of teaching in general education through: (a) enhancing the training of pre-service teachers in teacher education institutions; and (b) improving the quality of in-service teacher training. This component has following three sub-components: (i) pre-service teacher training; (ii) in-service teacher training; and (iii) licensing and relicensing of teachers and school leaders. The third component is school improvement plan. This component will support the strengthening of school planning in order to improve learning outcomes, and to partly fund the school improvement plans through school grants. It has following two sub-components: (i) school improvement plan; and (ii) school grants. The fourth component is management and capacity building, including education management information systems (EMIS). This component will support management and capacity building aspect of the project. This component has following three sub-components: (i) capacity building for education planning and management; (ii) capacity building for school planning and management; and (iii) EMIS. The fifth component is improving the quality of learning and teaching in secondary schools and universities through the use of information and communications technology (ICT). It has following five sub-components: (i) national policy and institution for ICT in general education; (ii) national ICT infrastructure improvement plan for general education; (iii) develop an integrated monitoring, evaluation, and learning system specifically for the ICT component; (iv) teacher professional development in the use of ICT; and (v) provision of limited number of e-Braille display readers with the possibility to scale up to all secondary education schools based on the successful implementation and usage of the readers. The sixth component is program coordination, monitoring and evaluation, and communication. It will support institutional strengthening by developing capacities in all aspects of program coordination, monitoring and evaluation; a new sub-component on communications will support information sharing for better management and accountability. It has following three sub-components: (i) program coordination; (ii) monitoring and evaluation (M and E); and (iii) communication.],Ethiopia General Education Quality Improvement Project II,WrappedArray([28-AUG-2013,PID,Project Information Document (PID),  Vol.,http://www-wds.worldbank.org/servlet/WDSServlet?pcont=details&eid=090224b081e545fb_1_0,090224b081e545fb_1_0], [01-JUL-2013,IP,Indigenous Peoples Plan (IP),  Vol.1 of 1,http://www-wds.worldbank.org/servlet/WDSServlet?pcont=details&eid=000442464_20130920111729,000442464_20130920111729], [22-NOV-2012,PID,Project Information Document (PID),  Vol.,http://www-wds.worldbank.org/servlet/WDSServlet?pcont=details&eid=090224b0817b19e2_1_0,090224b0817b19e2_1_0]),IDA,Active,Africa,WrappedArray([Primary education], [Secondary education], [Public administration- Other social services], [Tertiary education]),[Primary education,46],[Secondary education,26],[Public administration- Other social services,16],[Tertiary education,12],WrappedArray([EP,Primary education], [ES,Secondary education], [BS,Public administration- Other social services], [ET,Tertiary education]),ET,BS,ES,EP,IBRD,Active,N,[Education for all,100],WrappedArray([65,Education for all]),65,130000000,130000000,http://www.worldbank.org/projects/P129828/ethiopia-general-education-quality-improvement-project-ii?lang=en]\n",
      "[[52b213b38594d8a2be17c781],2015,November,2013-11-04T00:00:00Z,GOVERNMENT OF TUNISIA,null,Republic of Tunisia!$!TN,TN,Republic of Tunisia,Tunisia,Project Information Document,Integrated Safeguards Data Sheet,Integrated Safeguards Data Sheet,Project Information Document,Integrated Safeguards Data Sheet,Project Information Document,C,4700000,0,P144674,0,MINISTRY OF FINANCE,Specific Investment Loan,IN,5700000,WrappedArray([Public Administration, Law, and Justice,70], [Public Administration, Law, and Justice,30]),WrappedArray([BX,Public Administration, Law, and Justice], [BX,Public Administration, Law, and Justice]),WrappedArray(Economic management, Social protection and risk management),WrappedArray([1,Economic management], [6,Social protection and risk management]),1,6,RE,Recipient Executed Activities,L,null,TN: DTF Social Protection Reforms Support,WrappedArray([29-MAR-2013,PID,Project Information Document (PID),  Vol.1 of 1,http://www-wds.worldbank.org/servlet/WDSServlet?pcont=details&eid=000333037_20131024115616,000333037_20131024115616], [29-MAR-2013,ISDS,Integrated Safeguards Data Sheet (ISDS),  Vol.1 of 1,http://www-wds.worldbank.org/servlet/WDSServlet?pcont=details&eid=000356161_20131024151611,000356161_20131024151611], [29-MAR-2013,ISDS,Integrated Safeguards Data Sheet (ISDS),  Vol.1 of 1,http://www-wds.worldbank.org/servlet/WDSServlet?pcont=details&eid=000442464_20131031112136,000442464_20131031112136], [29-MAR-2013,PID,Project Information Document (PID),  Vol.1 of 1,http://www-wds.worldbank.org/servlet/WDSServlet?pcont=details&eid=000333037_20131031105716,000333037_20131031105716], [16-JAN-2013,ISDS,Integrated Safeguards Data Sheet (ISDS),  Vol.1 of 1,http://www-wds.worldbank.org/servlet/WDSServlet?pcont=details&eid=000356161_20130305113209,000356161_20130305113209], [16-JAN-2013,PID,Project Information Document (PID),  Vol.1 of 1,http://www-wds.worldbank.org/servlet/WDSServlet?pcont=details&eid=000356161_20130305113716,000356161_20130305113716]),OTHER,Active,Middle East and North Africa,WrappedArray([Public administration- Other social services], [General public administration sector]),[Public administration- Other social services,70],[General public administration sector,30],null,null,WrappedArray([BS,Public administration- Other social services], [BZ,General public administration sector]),BZ,BS,IBRD,Active,N,[Other economic management,30],WrappedArray([24,Other economic management], [54,Social safety nets]),54,24,0,4700000,http://www.worldbank.org/projects/P144674?lang=en]\n"
     ]
    },
    {
     "data": {
      "text/plain": []
     },
     "metadata": {},
     "output_type": "display_data"
    }
   ],
   "source": [
    "//Use SQL to select from table limit 2 and print the output\n",
    "sqlContext.sql(\"select * from world_bank limit 2\").collect().foreach(println)"
   ]
  },
  {
   "cell_type": "code",
   "execution_count": 11,
   "metadata": {
    "collapsed": false
   },
   "outputs": [
    {
     "name": "stdout",
     "output_type": "stream",
     "text": [
      "[East Asia and Pacific,100]\n",
      "[Other,2]\n",
      "[Middle East and North Africa,54]\n",
      "[Latin America and Caribbean,53]\n",
      "[Europe and Central Asia,74]\n",
      "[South Asia,65]\n",
      "[Africa,152]\n"
     ]
    },
    {
     "data": {
      "text/plain": []
     },
     "metadata": {},
     "output_type": "display_data"
    }
   ],
   "source": [
    "//Now Calculate a Simple count based on a group, for example \"regionname\"\n",
    "sqlContext.sql(\"select regionname,count(*) from world_bank group by regionname\").collect().foreach(println)"
   ]
  },
  {
   "cell_type": "code",
   "execution_count": 12,
   "metadata": {
    "collapsed": false
   },
   "outputs": [
    {
     "name": "stdout",
     "output_type": "stream",
     "text": [
      "[P129828,WrappedArray(Primary education, Secondary education, Public administration- Other social services, Tertiary education)]\n",
      "[P144674,WrappedArray(Public administration- Other social services, General public administration sector)]\n"
     ]
    },
    {
     "data": {
      "text/plain": []
     },
     "metadata": {},
     "output_type": "display_data"
    }
   ],
   "source": [
    "//With JSON data you can reference the nested data\n",
    "//If you look at Schema above you can see that Sector.Name is a nested column\n",
    "//Select that column and limit to reasonable output (like 2)\n",
    "sqlContext.sql(\"select id, sector.Name from world_bank limit 2\").collect().foreach(println)"
   ]
  },
  {
   "cell_type": "markdown",
   "metadata": {},
   "source": [
    "#Step 6\n",
    "\n",
    "<h3>Working with Functions</h3>\n",
    "Now we can create a nice simple function to use in the SQL statements\n",
    "\n",
    "First create a simple function that counts the letters in a word\n",
    "\n",
    "<b>Type:</b>\n",
    "\n",
    "sqlContext.udf.register(\"letter_count\", (l:String) => l.length)"
   ]
  },
  {
   "cell_type": "code",
   "execution_count": 13,
   "metadata": {
    "collapsed": false
   },
   "outputs": [
    {
     "data": {
      "text/plain": [
       "\u001b[36mres12\u001b[0m: org.apache.spark.sql.UserDefinedFunction = \u001b[33mUserDefinedFunction\u001b[0m(<function1>, IntegerType, \u001b[33mList\u001b[0m(StringType))"
      ]
     },
     "metadata": {},
     "output_type": "display_data"
    }
   ],
   "source": [
    "//define and register the function\n",
    "sqlContext.udf.register(\"letter_count\", (l:String) => l.length)"
   ]
  },
  {
   "cell_type": "code",
   "execution_count": 14,
   "metadata": {
    "collapsed": false
   },
   "outputs": [
    {
     "name": "stdout",
     "output_type": "stream",
     "text": [
      "[P129828,Africa,6]\n",
      "[P144674,Middle East and North Africa,28]\n"
     ]
    },
    {
     "data": {
      "text/plain": []
     },
     "metadata": {},
     "output_type": "display_data"
    }
   ],
   "source": [
    "//Capture the count of the sector.Name items\n",
    "sqlContext.sql(\"select id, regionname, letter_count(regionname) from world_bank limit 2\").collect().foreach(println)"
   ]
  }
 ],
 "metadata": {
  "kernelspec": {
   "display_name": "Scala 2.10",
   "language": "scala210",
   "name": "scala210"
  },
  "language_info": {
   "codemirror_mode": "text/x-scala",
   "file_extension": ".scala",
   "mimetype": "text/x-scala",
   "name": "scala210",
   "pygments_lexer": "scala",
   "version": "2.10.6"
  }
 },
 "nbformat": 4,
 "nbformat_minor": 0
}
