{
 "cells": [
  {
   "cell_type": "markdown",
   "metadata": {},
   "source": [
    "# Spark RDDs, DataFrames and Spark SQL\n",
    "\n",
    "<img src=\"https://upload.wikimedia.org/wikipedia/commons/e/ea/Spark-logo-192x100px.png\" width=\"25%\" height=\"25%\">"
   ]
  },
  {
   "cell_type": "markdown",
   "metadata": {},
   "source": [
    "This notebook uses Spark RDDs and DataFrames with Spark SQL to explore 2014 NFL regular season player game statistics.\n",
    "\n",
    "\n",
    "<img src=\"http://cdn.idigitaltimes.com/sites/idigitaltimes.com/files/2015/10/20/nfl-oculus.jpg\" width=\"25%\" height=\"25%\">\n"
   ]
  },
  {
   "cell_type": "markdown",
   "metadata": {},
   "source": [
    "## Uploading the Data File\n",
    "The NFL 2014 regular season player statistics data file was uploaded into this notebook by going to the **Data Source** panel of the **Palette** and using the **Add** button and choosing the option **From file** to upload the CSV file. The uploaded file appears in the **Data Source** panel on the **Palette** and is saved in Object Storage.\n",
    "\n",
    "\n",
    "<img src=\"https://cdsax.cloudant.com/public-samples/notebookswithspark/2015_data_source.png\" width=\"25%\" height=\"25%\"> \n",
    "\n"
   ]
  },
  {
   "cell_type": "markdown",
   "metadata": {},
   "source": [
    "## Load Data\n",
    "Before the data file stored in Object Storage can be accessed using the `SparkContext`, the Hadoop configuration must be set."
   ]
  },
  {
   "cell_type": "markdown",
   "metadata": {},
   "source": [
    "##Define a credentials dictionary that can be used whenwe access the csv file stored in Object Storage.\n"
   ]
  },
  {
   "cell_type": "code",
   "execution_count": 18,
   "metadata": {
    "collapsed": false
   },
   "outputs": [],
   "source": [
    "## Credential Dictionary \n",
    "credentials = {}\n",
    "credentials['name'] = 'gbrunell'\n",
    "credentials['auth_url'] = 'https://identity.open.softlayer.com'\n",
    "credentials['container'] = 'notebooks'\n",
    "credentials['filename'] = 'SportsData_NFL_2014_REG_PST_players.csv'\n",
    "credentials['project_id'] = '862d39daeb804ed5a24898160c008b96'\n",
    "credentials['region'] = 'dallas'\n",
    "credentials['user_id'] = '97969c8b5b0c4eb8a8a7bcca7f4d12c1'\n",
    "credentials['password'] = 'b4{eAKb7N{4pDx9='"
   ]
  },
  {
   "cell_type": "markdown",
   "metadata": {},
   "source": [
    "Now set the configuration using this credentials dictionary."
   ]
  },
  {
   "cell_type": "code",
   "execution_count": 22,
   "metadata": {
    "collapsed": false
   },
   "outputs": [],
   "source": [
    "## Hadoop Credentials \n",
    "def set_hadoop_config(credentials):\n",
    "    prefix = 'fs.swift.service.' + credentials['name'] \n",
    "    hconf = sc._jsc.hadoopConfiguration()\n",
    "    hconf.set(prefix + '.auth.url', credentials['auth_url']+'/v3/auth/tokens')\n",
    "    hconf.set(prefix + '.auth.endpoint.prefix', \"endpoints\")\n",
    "    hconf.set(prefix + '.tenant', credentials['project_id'])\n",
    "    hconf.set(prefix + '.username', credentials['user_id'])\n",
    "    hconf.set(prefix + '.password', credentials['password'])\n",
    "    hconf.setInt(prefix + '.http.port', 8080)\n",
    "    hconf.set(prefix + '.region', credentials['region'])\n",
    "    hconf.setBoolean(prefix + '.public', True)"
   ]
  },
  {
   "cell_type": "markdown",
   "metadata": {},
   "source": [
    "##Set and Use Credentials to access the CSV File"
   ]
  },
  {
   "cell_type": "code",
   "execution_count": 23,
   "metadata": {
    "collapsed": true
   },
   "outputs": [],
   "source": [
    "set_hadoop_config(credentials)\n"
   ]
  },
  {
   "cell_type": "code",
   "execution_count": 24,
   "metadata": {
    "collapsed": false
   },
   "outputs": [
    {
     "data": {
      "text/plain": [
       "[u'Week,Game ID,Field Type,Stadium Type,Weather Temperature,Weather Condition,Weather Wind Speed,Team,Opponent,Location,Player Name,Position,Rushing Attempts,Rushing Yards,Rushing TD,Receiving Targets,Receptions,Receiving Yards,Receiving TD,Total TD,Fumbles,Pass Attempts,Pass Completions,Passing Yards,Passing TD,Interceptions',\n",
       " u'1,1,artificial,outdoor,73,Sunny,11,Seahawks,GB,Home,Byron Maxwell,CB,0,0,0,0,0,0,0,0,0,0,0,0,0,0']"
      ]
     },
     "execution_count": 24,
     "metadata": {},
     "output_type": "execute_result"
    }
   ],
   "source": [
    "NFLdata = sc.textFile(\"swift://\" + credentials['container'] +\".\" + credentials['name'] + '/' + credentials['filename']) \n",
    "##    behind hte scenes NFLdata = sc.textFile(\"swift://notebooks.keystone/SportsData_NFL_2014_REG_PST_players.csv\")\n",
    "NFLdata.take(2)"
   ]
  },
  {
   "cell_type": "code",
   "execution_count": 28,
   "metadata": {
    "collapsed": false
   },
   "outputs": [],
   "source": [
    "set_hadoop_config(credentials)"
   ]
  },
  {
   "cell_type": "markdown",
   "metadata": {},
   "source": [
    "\n",
    "##We can now access he data file stored in Object Storage using the configured `SparkContext` in our notebook. \n",
    "\n",
    "Let's create an `RDD` from the raw data file. We will refer to it using a URI of the form: \n",
    "\n",
    "```\n",
    "\n",
    "\n"
   ]
  },
  {
   "cell_type": "code",
   "execution_count": 26,
   "metadata": {
    "collapsed": false
   },
   "outputs": [
    {
     "data": {
      "text/plain": [
       "[u'Week,Game ID,Field Type,Stadium Type,Weather Temperature,Weather Condition,Weather Wind Speed,Team,Opponent,Location,Player Name,Position,Rushing Attempts,Rushing Yards,Rushing TD,Receiving Targets,Receptions,Receiving Yards,Receiving TD,Total TD,Fumbles,Pass Attempts,Pass Completions,Passing Yards,Passing TD,Interceptions',\n",
       " u'1,1,artificial,outdoor,73,Sunny,11,Seahawks,GB,Home,Byron Maxwell,CB,0,0,0,0,0,0,0,0,0,0,0,0,0,0']"
      ]
     },
     "execution_count": 26,
     "metadata": {},
     "output_type": "execute_result"
    }
   ],
   "source": [
    "NFLdata = sc.textFile(\"swift://\" + credentials['container'] +\".\" + credentials['name'] + '/' + credentials['filename']) \n",
    "NFLdata.take(2)\n"
   ]
  },
  {
   "cell_type": "markdown",
   "metadata": {},
   "source": [
    "The `RDD` we created is a collection of strings corresponding to the individual lines in the raw CSV data file. It is also important to remember that the `RDD` is defined but not instantiated yet. We can apply an action like `count` to the `RDD` which will effectively force its instantiation.\n",
    "\n",
    "also be sure you understand the difference between local storge and object sotrage"
   ]
  },
  {
   "cell_type": "code",
   "execution_count": 8,
   "metadata": {
    "collapsed": false
   },
   "outputs": [
    {
     "name": "stdout",
     "output_type": "stream",
     "text": [
      "/gpfs/fs01/user/s64f-cd88bf3504b094-0e064d06fabc/notebook/notebooks\n",
      "\n"
     ]
    }
   ],
   "source": [
    "!pwd"
   ]
  },
  {
   "cell_type": "code",
   "execution_count": 9,
   "metadata": {
    "collapsed": false
   },
   "outputs": [
    {
     "name": "stdout",
     "output_type": "stream",
     "text": [
      "Intro.png\t\t    derby.log\t\t   win_loss.png\r\n",
      "Intro.png.1\t\t    football_scores.csv    world_bank.json.gz\r\n",
      "Intro.png.2\t\t    football_scores.csv.1  world_bank.json.gz.1\r\n",
      "OnlineRetail.csv.gz\t    football_scores.csv.2  world_bank.json.gz.2\r\n",
      "TrapezoidRule.ipynb\t    metastore_db\t   world_bank.json.gz.3\r\n",
      "WeatherPrecipitation.ipynb  nfl_weather.csv\r\n",
      "anothertry.png\t\t    nfl_weather.csv.1\r\n"
     ]
    }
   ],
   "source": [
    "!ls"
   ]
  },
  {
   "cell_type": "code",
   "execution_count": 25,
   "metadata": {
    "collapsed": false
   },
   "outputs": [
    {
     "name": "stdout",
     "output_type": "stream",
     "text": [
      "Total records in the SportsData_NFL_2014_REG_PST_players dataset: 37864\n"
     ]
    }
   ],
   "source": [
    "print \"Total records in the SportsData_NFL_2014_REG_PST_players dataset:\", NFLdata.count()\n",
    "# This is an action."
   ]
  },
  {
   "cell_type": "markdown",
   "metadata": {},
   "source": [
    "Spark can cache datasets in memory to speed up reuse. Let's cache the `NFLdata` RDD."
   ]
  },
  {
   "cell_type": "code",
   "execution_count": 31,
   "metadata": {
    "collapsed": false
   },
   "outputs": [
    {
     "data": {
      "text/plain": [
       "MapPartitionsRDD[13] at textFile at NativeMethodAccessorImpl.java:-2"
      ]
     },
     "execution_count": 31,
     "metadata": {},
     "output_type": "execute_result"
    }
   ],
   "source": [
    "NFLdata.cache()"
   ]
  },
  {
   "cell_type": "markdown",
   "metadata": {},
   "source": [
    "We can apply another action `first`, to the same `RDD` to take a look at the first row of the data."
   ]
  },
  {
   "cell_type": "code",
   "execution_count": 32,
   "metadata": {
    "collapsed": false,
    "scrolled": true
   },
   "outputs": [
    {
     "name": "stdout",
     "output_type": "stream",
     "text": [
      "The first row in the SportsData_NFL_2014_REG_PST_players2015.csv dataset: Week,Game ID,Field Type,Stadium Type,Weather Temperature,Weather Condition,Weather Wind Speed,Team,Opponent,Location,Player Name,Position,Rushing Attempts,Rushing Yards,Rushing TD,Receiving Targets,Receptions,Receiving Yards,Receiving TD,Total TD,Fumbles,Pass Attempts,Pass Completions,Passing Yards,Passing TD,Interceptions\n"
     ]
    }
   ],
   "source": [
    "print \"The first row in the SportsData_NFL_2014_REG_PST_players2015.csv dataset:\", NFLdata.first()\n",
    "# Another action, which this time is processed faster as the data is cached."
   ]
  },
  {
   "cell_type": "markdown",
   "metadata": {},
   "source": [
    "## Parsing the Data\n",
    "<img src=\"http://www.picturesof.net/_images_300/A_Shredder_Shredding_Paper_Royalty_Free_Clipart_Picture_081211-150312-640018.jpg\" width=\"10%\" height=\"10%\">"
   ]
  },
  {
   "cell_type": "markdown",
   "metadata": {
    "collapsed": true
   },
   "source": [
    "To really begin working with the data, we need to parse it into columns. We can accomplish this by mapping each line in the `RDD` to a function that splits the line by commas."
   ]
  },
  {
   "cell_type": "markdown",
   "metadata": {},
   "source": [
    "The lambda notation in Python is used to create anonymous functions (i.e functions which are not bound to a name). This concept is used for passing a function as a parameter to the map function. The anonymous function receives each line from the RDD \"NFLdata\" and splits it at the comma boundaries."
   ]
  },
  {
   "cell_type": "code",
   "execution_count": 33,
   "metadata": {
    "collapsed": false
   },
   "outputs": [],
   "source": [
    "NFLdataParse = NFLdata.map(lambda line : line.split(\",\"))\n",
    "# Just a transformation"
   ]
  },
  {
   "cell_type": "markdown",
   "metadata": {},
   "source": [
    "As a result, the new RDD \"NFLdataParse\" is defined as a list of lists of strings. Each list in \"NFLdataParse\" corresponds to a line in \"NFLdata\" and the strings in each list are the individual elements of the row."
   ]
  },
  {
   "cell_type": "code",
   "execution_count": 34,
   "metadata": {
    "collapsed": false,
    "scrolled": true
   },
   "outputs": [
    {
     "data": {
      "text/plain": [
       "[u'Week',\n",
       " u'Game ID',\n",
       " u'Field Type',\n",
       " u'Stadium Type',\n",
       " u'Weather Temperature',\n",
       " u'Weather Condition',\n",
       " u'Weather Wind Speed',\n",
       " u'Team',\n",
       " u'Opponent',\n",
       " u'Location',\n",
       " u'Player Name',\n",
       " u'Position',\n",
       " u'Rushing Attempts',\n",
       " u'Rushing Yards',\n",
       " u'Rushing TD',\n",
       " u'Receiving Targets',\n",
       " u'Receptions',\n",
       " u'Receiving Yards',\n",
       " u'Receiving TD',\n",
       " u'Total TD',\n",
       " u'Fumbles',\n",
       " u'Pass Attempts',\n",
       " u'Pass Completions',\n",
       " u'Passing Yards',\n",
       " u'Passing TD',\n",
       " u'Interceptions']"
      ]
     },
     "execution_count": 34,
     "metadata": {},
     "output_type": "execute_result"
    }
   ],
   "source": [
    "NFLdataParse.first()\n",
    "# An action"
   ]
  },
  {
   "cell_type": "markdown",
   "metadata": {},
   "source": [
    "Let us now take a look at individual elements of this first list where the first entry starts at offset zero."
   ]
  },
  {
   "cell_type": "code",
   "execution_count": 39,
   "metadata": {
    "collapsed": false,
    "scrolled": true
   },
   "outputs": [
    {
     "data": {
      "text/plain": [
       "u'Team'"
      ]
     },
     "execution_count": 39,
     "metadata": {},
     "output_type": "execute_result"
    }
   ],
   "source": [
    "NFLdataParse.first()[7]"
   ]
  },
  {
   "cell_type": "markdown",
   "metadata": {},
   "source": [
    "We can also pull other elements by index."
   ]
  },
  {
   "cell_type": "code",
   "execution_count": null,
   "metadata": {
    "collapsed": false
   },
   "outputs": [],
   "source": [
    "NFLdataParse.first()[17]"
   ]
  },
  {
   "cell_type": "markdown",
   "metadata": {},
   "source": [
    "## Exploring the Data\n",
    "<img src=\"http://www.wpclipart.com/people/professions/police/detective_with_pipe_and_magnifying_glass.png\" width=\"5%\" height=\"5%\">\n",
    "### Select only wide receivers"
   ]
  },
  {
   "cell_type": "markdown",
   "metadata": {},
   "source": [
    "Let's now reduce the dataset by selecting only players who play wide receiver. That is, those rows where the \"Position\" column equals \"WR\"."
   ]
  },
  {
   "cell_type": "code",
   "execution_count": 40,
   "metadata": {
    "collapsed": false
   },
   "outputs": [
    {
     "data": {
      "text/plain": [
       "[u'1',\n",
       " u'1',\n",
       " u'artificial',\n",
       " u'outdoor',\n",
       " u'73',\n",
       " u'Sunny',\n",
       " u'11',\n",
       " u'Seahawks',\n",
       " u'GB',\n",
       " u'Home',\n",
       " u'Jermaine Kearse',\n",
       " u'WR',\n",
       " u'0',\n",
       " u'0',\n",
       " u'0',\n",
       " u'3',\n",
       " u'1',\n",
       " u'8',\n",
       " u'0',\n",
       " u'0',\n",
       " u'0',\n",
       " u'0',\n",
       " u'0',\n",
       " u'0',\n",
       " u'0',\n",
       " u'0']"
      ]
     },
     "execution_count": 40,
     "metadata": {},
     "output_type": "execute_result"
    }
   ],
   "source": [
    "NFLdataWR = NFLdataParse.filter(lambda x: x[11] == \"WR\")\n",
    "# x[11} is the player's Position\n",
    "NFLdataWR.first()"
   ]
  },
  {
   "cell_type": "markdown",
   "metadata": {},
   "source": [
    "###  Calculate Average WR Receiving Yards per Game by Team\n",
    "\n",
    "Let's calculate the average receiving yards by wide receivers per game by team."
   ]
  },
  {
   "cell_type": "markdown",
   "metadata": {},
   "source": [
    "The RDD `NFLdataWR` contains embedded within it a list of pairs (v1, v2), where v1 is the player's Team and v2 the Receiving Yards for a given game for a WR on that team."
   ]
  },
  {
   "cell_type": "markdown",
   "metadata": {},
   "source": [
    "<table border=\"1\" style=\"width:80%\">\n",
    "  <tr>\n",
    "    <th>Key</th><th>Value</th>\n",
    "  </tr>\n",
    "  <tr>\n",
    "    <td>Team 1</td><td>Receiving Yards for Player 1</td>\n",
    "  </tr>\n",
    "  <tr>\n",
    "    <td>Team 2</td><td>Receiving Yards for Player 2</td>\n",
    "  </tr>\n",
    "  <tr>\n",
    "    <td>Team 1</td><td>Receiving Yards for Player 3</td>\n",
    "  </tr>\n",
    "    <tr>\n",
    "    <td>Team 2</td><td>Receiving Yards for Player 4</td>\n",
    "  </tr>\n",
    "    <tr>\n",
    "    <td>Team 3</td><td>Receiving Yards for Player 5</td>\n",
    "  </tr>\n",
    "  <tr>\n",
    "    <td>...</td><td>...</td>\n",
    "  </tr>\n",
    "</table>\n",
    "<p>"
   ]
  },
  {
   "cell_type": "markdown",
   "metadata": {},
   "source": [
    "Create RDD pair (v1,v2) as described above."
   ]
  },
  {
   "cell_type": "code",
   "execution_count": 41,
   "metadata": {
    "collapsed": false
   },
   "outputs": [
    {
     "data": {
      "text/plain": [
       "[(u'Redskins', 95),\n",
       " (u'Bears', 112),\n",
       " (u'Jets', 129),\n",
       " (u'Jaguars', 0),\n",
       " (u'Rams', 20)]"
      ]
     },
     "execution_count": 41,
     "metadata": {},
     "output_type": "execute_result"
    }
   ],
   "source": [
    "# x[7] is the Team\n",
    "# x[17] is the Receiving Yards\n",
    "NFLdataWRpair = NFLdataWR.map(lambda x : (x[7], (int(x[17]))))\n",
    "NFLdataWRpair.takeSample(0, 5, 87) # Return 5 key/value pairs at random - 87 is just a random number seed"
   ]
  },
  {
   "cell_type": "markdown",
   "metadata": {},
   "source": [
    "Our next goal is to transform (map) this dataset into a new one where each row (data pair) is augmented with the value `1`. This will enable us to compute the average recieving yards per WR for each team by dividing the sum of receiving yards by the corresponding count, which represents the number of records in the data."
   ]
  },
  {
   "cell_type": "markdown",
   "metadata": {},
   "source": [
    "<table border=\"1\" style=\"width:80%\">\n",
    "  <tr>\n",
    "    <th>Key</th><th>Value</th>\n",
    "  </tr>\n",
    "  <tr>\n",
    "    <td>Team 1</td><td>(Receiving Yards for Player 1,1)</td>\n",
    "  </tr>\n",
    "  <tr>\n",
    "    <td>Team 2</td><td>(Receiving Yards for Player 2,1)</td>\n",
    "  </tr>\n",
    "    <tr>\n",
    "    <td>Team 1</td><td>(Receiving Yards for Player 3,1)</td>\n",
    "  </tr>\n",
    "    <tr>\n",
    "    <td>Team 2</td><td>(Receiving Yards for Player 4,1)</td>\n",
    "  </tr>\n",
    "    <tr>\n",
    "    <td>Team 3</td><td>(Receiving Yards for Player 5,1)</td>\n",
    "  </tr>\n",
    "  <tr>\n",
    "    <td>...</td><td>...</td>\n",
    "  </tr>\n",
    "</table>\n",
    "<p>"
   ]
  },
  {
   "cell_type": "markdown",
   "metadata": {},
   "source": [
    "\n",
    "\n",
    "Create \"playersWRCountByKey\", which will have the structure just described."
   ]
  },
  {
   "cell_type": "code",
   "execution_count": 42,
   "metadata": {
    "collapsed": false
   },
   "outputs": [],
   "source": [
    "# x[7] is the Team\n",
    "# x[17] is the Receiving Yards\n",
    "NFLdataWRCountByKey = NFLdataWR.map(lambda x : (x[7], (int(x[17]), 1)))\n",
    "# Note that the map function is operating on the RDD `NFLdataWR` not the RDD `NFLdataWRpair` that was created in the last step.\n",
    "# The last step was merely for illustrative purposes."
   ]
  },
  {
   "cell_type": "markdown",
   "metadata": {},
   "source": [
    "We can again look at the first element of our new `RDD` to confirm that our mapping produced the expected result."
   ]
  },
  {
   "cell_type": "code",
   "execution_count": 43,
   "metadata": {
    "collapsed": false
   },
   "outputs": [
    {
     "data": {
      "text/plain": [
       "(u'Seahawks', (8, 1))"
      ]
     },
     "execution_count": 43,
     "metadata": {},
     "output_type": "execute_result"
    }
   ],
   "source": [
    "NFLdataWRCountByKey.first()\n",
    "# Remember that this is just a value pair that represents the recieving yards for a single wide receiver for a single game."
   ]
  },
  {
   "cell_type": "markdown",
   "metadata": {},
   "source": [
    "We can validate that the key is the team name."
   ]
  },
  {
   "cell_type": "code",
   "execution_count": 44,
   "metadata": {
    "collapsed": false
   },
   "outputs": [
    {
     "data": {
      "text/plain": [
       "u'Seahawks'"
      ]
     },
     "execution_count": 44,
     "metadata": {},
     "output_type": "execute_result"
    }
   ],
   "source": [
    "NFLdataWRCountByKey.keys().first()"
   ]
  },
  {
   "cell_type": "markdown",
   "metadata": {},
   "source": [
    "Let's also confirm the associated value is (RecievingYards, 1)."
   ]
  },
  {
   "cell_type": "code",
   "execution_count": 45,
   "metadata": {
    "collapsed": false
   },
   "outputs": [
    {
     "data": {
      "text/plain": [
       "(8, 1)"
      ]
     },
     "execution_count": 45,
     "metadata": {},
     "output_type": "execute_result"
    }
   ],
   "source": [
    "NFLdataWRCountByKey.values().first()"
   ]
  },
  {
   "cell_type": "markdown",
   "metadata": {},
   "source": [
    "The reason for this mapping is to subsequently be able to reduce the table into the following form."
   ]
  },
  {
   "cell_type": "markdown",
   "metadata": {},
   "source": [
    "<table border=\"1\" style=\"width:80%\">\n",
    "  <tr>\n",
    "    <th>Key</th><th>Value</th>\n",
    "  </tr>\n",
    "  <tr>\n",
    "    <td>Team 1</td><td>(Receiving Yards for Player 1 + Receiving Yards for Player 3,2)</td>\n",
    "  </tr>\n",
    "  <tr>\n",
    "    <td>Team 2</td><td>(Receiving Yards for Player 2 + Receiving Yards for Player 4,2)</td>\n",
    "  </tr>\n",
    "    <tr>\n",
    "    <td>Team 3</td><td>(Receiving Yards for Player 5,1)</td>\n",
    "  </tr>\n",
    "  <tr>\n",
    "    <td>...</td><td>...</td>\n",
    "  </tr>\n",
    "</table>\n",
    "<p>"
   ]
  },
  {
   "cell_type": "markdown",
   "metadata": {},
   "source": [
    "Now we can sum (reduce) the Receiving Yard amounts and total number of WRs for every Team. We use `reduceByKey` for this purpose."
   ]
  },
  {
   "cell_type": "code",
   "execution_count": 46,
   "metadata": {
    "collapsed": true
   },
   "outputs": [],
   "source": [
    "NFLdataWRAddByKey = NFLdataWRCountByKey.reduceByKey(lambda v1,v2 : (v1[0]+v2[0], v1[1]+v2[1]))"
   ]
  },
  {
   "cell_type": "markdown",
   "metadata": {},
   "source": [
    "Let's inspect the Total Receiving Yards and total number of WRs who played in games for 5 of the teams."
   ]
  },
  {
   "cell_type": "code",
   "execution_count": 47,
   "metadata": {
    "collapsed": false
   },
   "outputs": [
    {
     "data": {
      "text/plain": [
       "[(u'Vikings', (2326, 116)),\n",
       " (u'Titans', (2020, 124)),\n",
       " (u'Texans', (2585, 120)),\n",
       " (u'Steelers', (3470, 135)),\n",
       " (u'Seahawks', (2480, 152))]"
      ]
     },
     "execution_count": 47,
     "metadata": {},
     "output_type": "execute_result"
    }
   ],
   "source": [
    "NFLdataWRAddByKey.top(5)"
   ]
  },
  {
   "cell_type": "markdown",
   "metadata": {},
   "source": [
    "Now we can finally compute the average wide receiving yards per team. We create the `NFLdataWRAverage` RDD by mapping the `NFLdataWRAddByKey` RDD through a function that divides the total receiving yards by the total number of data points (wide recievers who played in a game)."
   ]
  },
  {
   "cell_type": "code",
   "execution_count": 48,
   "metadata": {
    "collapsed": true
   },
   "outputs": [],
   "source": [
    "NFLdataWRAverage = NFLdataWRAddByKey.map(lambda k: (k[0], k[1][0] / float(k[1][1] ) ) )"
   ]
  },
  {
   "cell_type": "markdown",
   "metadata": {},
   "source": [
    "### Average WR Receiving Yards per game of 10 teams\n",
    "<img src=\"https://encrypted-tbn2.gstatic.com/images?q=tbn:ANd9GcT6l18mILYcHa6p3yUqx5IHE8-M25piqALPHPYIKZTB7yZpCpqn\" width=\"15%\" height=\"15%\">"
   ]
  },
  {
   "cell_type": "code",
   "execution_count": 49,
   "metadata": {
    "collapsed": false
   },
   "outputs": [
    {
     "data": {
      "text/plain": [
       "[(u'Vikings', 20.051724137931036),\n",
       " (u'Titans', 16.29032258064516),\n",
       " (u'Texans', 21.541666666666668),\n",
       " (u'Steelers', 25.703703703703702),\n",
       " (u'Seahawks', 16.31578947368421),\n",
       " (u'Saints', 17.959183673469386),\n",
       " (u'Redskins', 19.223776223776223),\n",
       " (u'Ravens', 16.29078014184397),\n",
       " (u'Rams', 17.308333333333334),\n",
       " (u'Raiders', 17.04724409448819)]"
      ]
     },
     "execution_count": 49,
     "metadata": {},
     "output_type": "execute_result"
    }
   ],
   "source": [
    "NFLdataWRAverage.top(10)"
   ]
  },
  {
   "cell_type": "markdown",
   "metadata": {},
   "source": [
    "Let's format the results."
   ]
  },
  {
   "cell_type": "code",
   "execution_count": 50,
   "metadata": {
    "collapsed": false
   },
   "outputs": [
    {
     "name": "stdout",
     "output_type": "stream",
     "text": [
      "Vikings had average WR receiving yards per game of 20.051724 in 2014.\n",
      "Titans had average WR receiving yards per game of 16.290323 in 2014.\n",
      "Texans had average WR receiving yards per game of 21.541667 in 2014.\n",
      "Steelers had average WR receiving yards per game of 25.703704 in 2014.\n",
      "Seahawks had average WR receiving yards per game of 16.315789 in 2014.\n",
      "Saints had average WR receiving yards per game of 17.959184 in 2014.\n",
      "Redskins had average WR receiving yards per game of 19.223776 in 2014.\n",
      "Ravens had average WR receiving yards per game of 16.290780 in 2014.\n",
      "Rams had average WR receiving yards per game of 17.308333 in 2014.\n",
      "Raiders had average WR receiving yards per game of 17.047244 in 2014.\n"
     ]
    }
   ],
   "source": [
    "for pair in NFLdataWRAverage.top(10):\n",
    "    print \"%s had average WR receiving yards per game of %f in 2014.\" % (pair[0],pair[1])"
   ]
  },
  {
   "cell_type": "markdown",
   "metadata": {},
   "source": [
    "The `Team` name dictates the sort order of the `top` call because it appears first in the (Team, average WR receiving yards) tuple."
   ]
  },
  {
   "cell_type": "markdown",
   "metadata": {},
   "source": [
    "### Descending order of Teams by Average WR Receiving Yards per game\n",
    "\n",
    "If we want to output the 10 teams with the highest average receiving yards per catch, we must flip-flop the `Team` and average `ReceivingYards` pair order. We can do this simply with a `map` function that swaps the pair order."
   ]
  },
  {
   "cell_type": "code",
   "execution_count": 51,
   "metadata": {
    "collapsed": false,
    "scrolled": true
   },
   "outputs": [
    {
     "name": "stdout",
     "output_type": "stream",
     "text": [
      "Falcons had average receiving yards per game of 26.717391 in 2014\n",
      "Steelers had average receiving yards per game of 25.703704 in 2014\n",
      "Lions had average receiving yards per game of 24.300000 in 2014\n",
      "Cowboys had average receiving yards per game of 24.076923 in 2014\n",
      "Buccaneers had average receiving yards per game of 23.953704 in 2014\n",
      "Packers had average receiving yards per game of 23.806452 in 2014\n",
      "Broncos had average receiving yards per game of 23.452229 in 2014\n",
      "Chargers had average receiving yards per game of 23.185841 in 2014\n",
      "Cardinals had average receiving yards per game of 22.893443 in 2014\n",
      "Dolphins had average receiving yards per game of 22.660714 in 2014\n"
     ]
    }
   ],
   "source": [
    "NFLdataWRAverageTop10=[]\n",
    "TeamTop10=[]\n",
    "for pair in NFLdataWRAverage.map(lambda (x,y) : (y,x)).top(10):\n",
    "    NFLdataWRAverageTop10.append(pair[0])\n",
    "    TeamTop10.append(pair[1])\n",
    "    print \"%s had average receiving yards per game of %f in 2014\" % (pair[1],pair[0])"
   ]
  },
  {
   "cell_type": "markdown",
   "metadata": {},
   "source": [
    "Now let's plot the results."
   ]
  },
  {
   "cell_type": "code",
   "execution_count": 52,
   "metadata": {
    "collapsed": false
   },
   "outputs": [
    {
     "data": {
      "image/png": "[encoded data removed]",
      "text/plain": [
       "<matplotlib.figure.Figure at 0x7f81c2584290>"
      ]
     },
     "metadata": {},
     "output_type": "display_data"
    }
   ],
   "source": [
    "%matplotlib inline\n",
    "import numpy as np\n",
    "import matplotlib.pyplot as plt\n",
    "\n",
    "N = 10\n",
    "index = np.arange(N)  \n",
    "bar_width = 0.5\n",
    "\n",
    "plt.bar(index, NFLdataWRAverageTop10, bar_width,\n",
    "                 color='b')\n",
    "plt.xlabel('Team')\n",
    "plt.ylabel('Average WR Receiving Yards per game')\n",
    "plt.title('10 teams with the highest average WR receiving yards per game in 2014')\n",
    "plt.xticks(index + bar_width, TeamTop10, rotation=90)\n",
    "plt.show()"
   ]
  },
  {
   "cell_type": "markdown",
   "metadata": {},
   "source": [
    "## Use Spark Data Frames to analyze the data\n",
    "<img src=\"https://databricks.com/wp-content/uploads/2015/02/Introducing-DataFrames-in-Spark-for-Large-Scale-Data-Science1.png\" width=\"50%\" height=\"50%\">"
   ]
  },
  {
   "cell_type": "markdown",
   "metadata": {},
   "source": [
    "To create a data frame of 2014 NFL regular season player statistics by game, we will use the `SQLContext` and `Row` class from the `pyspark.sql` module. Each of the lines from the `NFLdataWR` RDD will be used to create a row object. Each of the row's attributes will be used to access the value of each column -  just like you would do to a relational table."
   ]
  },
  {
   "cell_type": "code",
   "execution_count": 62,
   "metadata": {
    "collapsed": false
   },
   "outputs": [],
   "source": [
    "# Import the SQLContext and Row class from the pyspark.sql module\n",
    "from pyspark.sql import SQLContext, Row\n",
    "# instantiate SQLContext object\n",
    "sqlContext = SQLContext(sc)"
   ]
  },
  {
   "cell_type": "markdown",
   "metadata": {},
   "source": [
    "First we convert each line of the `NFLdataWR` RDD into a row object while infering and applying a schema to the RDD."
   ]
  },
  {
   "cell_type": "code",
   "execution_count": 63,
   "metadata": {
    "collapsed": false
   },
   "outputs": [],
   "source": [
    "# Convert each line of NFLdataWR RDD into a Row object and apply a Row Schema\n",
    "NFLdataWRRows= NFLdataWR.map(lambda p: Row(PlayerName=p[10], Team=p[7], ReceivingYards=int(p[17])))\n"
   ]
  },
  {
   "cell_type": "markdown",
   "metadata": {},
   "source": [
    "Next we convert the RDD to a Data Frame."
   ]
  },
  {
   "cell_type": "code",
   "execution_count": 64,
   "metadata": {
    "collapsed": false
   },
   "outputs": [],
   "source": [
    "# Convert the RDD to a Data Frame\n",
    "NFLdataWRDataFrame = sqlContext.createDataFrame(NFLdataWRRows)"
   ]
  },
  {
   "cell_type": "markdown",
   "metadata": {},
   "source": [
    "Let's preview the Data Frame schema."
   ]
  },
  {
   "cell_type": "code",
   "execution_count": 65,
   "metadata": {
    "collapsed": false,
    "scrolled": true
   },
   "outputs": [
    {
     "name": "stdout",
     "output_type": "stream",
     "text": [
      "root\n",
      " |-- PlayerName: string (nullable = true)\n",
      " |-- ReceivingYards: long (nullable = true)\n",
      " |-- Team: string (nullable = true)\n",
      "\n"
     ]
    }
   ],
   "source": [
    "NFLdataWRDataFrame.printSchema()"
   ]
  },
  {
   "cell_type": "markdown",
   "metadata": {},
   "source": [
    "Now let's look at some of the Data Frame data filtering on WR who had 200 yard receiving games."
   ]
  },
  {
   "cell_type": "code",
   "execution_count": 66,
   "metadata": {
    "collapsed": false
   },
   "outputs": [
    {
     "name": "stdout",
     "output_type": "stream",
     "text": [
      "+----------------+----------+--------------+\n",
      "|      PlayerName|      Team|ReceivingYards|\n",
      "+----------------+----------+--------------+\n",
      "|    Jordy Nelson|   Packers|           209|\n",
      "|Demaryius Thomas|   Broncos|           226|\n",
      "|     T.Y. Hilton|     Colts|           223|\n",
      "|      Mike Evans|Buccaneers|           209|\n",
      "| DeAndre Hopkins|    Texans|           238|\n",
      "|      A.J. Green|   Bengals|           224|\n",
      "|     Julio Jones|   Falcons|           259|\n",
      "|     Eric Decker|      Jets|           221|\n",
      "+----------------+----------+--------------+\n",
      "\n"
     ]
    }
   ],
   "source": [
    "NFLdataWRDataFrame.select('PlayerName', 'Team', 'ReceivingYards').where(NFLdataWRDataFrame['ReceivingYards'] > 200).show()"
   ]
  },
  {
   "cell_type": "markdown",
   "metadata": {},
   "source": [
    "### Descending order of Teams by average WR Receiving Yards with DataFrames\n",
    "Let's report the average WR Receiving Yards per game by Team as we did above, but this time using Data Frames."
   ]
  },
  {
   "cell_type": "code",
   "execution_count": 67,
   "metadata": {
    "collapsed": false
   },
   "outputs": [
    {
     "name": "stdout",
     "output_type": "stream",
     "text": [
      "+----------+-------------------+\n",
      "|      Team|avg(ReceivingYards)|\n",
      "+----------+-------------------+\n",
      "|   Falcons| 26.717391304347824|\n",
      "|  Steelers| 25.703703703703702|\n",
      "|     Lions|               24.3|\n",
      "|   Cowboys| 24.076923076923077|\n",
      "|Buccaneers| 23.953703703703702|\n",
      "|   Packers| 23.806451612903224|\n",
      "|   Broncos| 23.452229299363058|\n",
      "|  Chargers|   23.1858407079646|\n",
      "| Cardinals|  22.89344262295082|\n",
      "|  Dolphins| 22.660714285714285|\n",
      "+----------+-------------------+\n",
      "only showing top 10 rows\n",
      "\n"
     ]
    }
   ],
   "source": [
    "NFLdataWRDataFrame \\\n",
    ".groupby(['Team'])\\\n",
    ".agg({\"ReceivingYards\": \"avg\"})\\\n",
    ".sort(\"avg(ReceivingYards)\", ascending=False)\\\n",
    ".show(10)"
   ]
  },
  {
   "cell_type": "markdown",
   "metadata": {},
   "source": [
    "## Use Spark SQL to analyze the data\n",
    "<img src=\"https://media.licdn.com/mpr/mpr/jc/AAEAAQAAAAAAAASuAAAAJDk3NGUwNWJkLWJkZGEtNGQzMy05OTJmLTIwZDc3OWU2MzZlYw.jpg\" width=\"25%\" height=\"25%\">\n",
    "\n",
    "\n",
    "A Spark DataFrame can also be registered as a temporary table in Spark SQL. Registering a DataFrame as a table allows you to run SQL queries over its data. The `sql` function enables applications to run SQL queries programmatically and returns the result as a DataFrame."
   ]
  },
  {
   "cell_type": "markdown",
   "metadata": {},
   "source": [
    "Register a table called 'NFLdataWRTable' with 3 columns: PlayerName, Team and ReceivingYards"
   ]
  },
  {
   "cell_type": "code",
   "execution_count": 68,
   "metadata": {
    "collapsed": false
   },
   "outputs": [],
   "source": [
    "NFLdataWRDataFrame.registerTempTable(\"NFLdataWRTable\")"
   ]
  },
  {
   "cell_type": "markdown",
   "metadata": {},
   "source": [
    "Spark SQL can cache tables using an in-memory columnar format."
   ]
  },
  {
   "cell_type": "code",
   "execution_count": 69,
   "metadata": {
    "collapsed": false
   },
   "outputs": [],
   "source": [
    "sqlContext.cacheTable(\"NFLdataWRTable\")"
   ]
  },
  {
   "cell_type": "markdown",
   "metadata": {},
   "source": [
    "### Descending order of Teams by average WR Receiving Yards\n",
    "Let's report the average WR Receiving Yards per game by Team as we did above, but this time using Spark SQL. Spark SQL` provides a SQL-like interface. It also can be a very powerful tool for performing complex aggregations."
   ]
  },
  {
   "cell_type": "code",
   "execution_count": 70,
   "metadata": {
    "collapsed": false,
    "scrolled": true
   },
   "outputs": [
    {
     "name": "stdout",
     "output_type": "stream",
     "text": [
      "+----------+-------------------+\n",
      "|      Team|TotalReceivingYards|\n",
      "+----------+-------------------+\n",
      "|   Falcons| 26.717391304347824|\n",
      "|  Steelers| 25.703703703703702|\n",
      "|     Lions|               24.3|\n",
      "|   Cowboys| 24.076923076923077|\n",
      "|Buccaneers| 23.953703703703702|\n",
      "|   Packers| 23.806451612903224|\n",
      "|   Broncos| 23.452229299363058|\n",
      "|  Chargers|   23.1858407079646|\n",
      "| Cardinals|  22.89344262295082|\n",
      "|  Dolphins| 22.660714285714285|\n",
      "+----------+-------------------+\n",
      "\n"
     ]
    }
   ],
   "source": [
    "NFLdataWRAverageSQL = sqlContext.sql(\"SELECT Team, AVG(ReceivingYards) as TotalReceivingYards FROM NFLdataWRTable GROUP BY Team ORDER BY TotalReceivingYards DESC LIMIT 10\")\n",
    "NFLdataWRAverageSQL.show()"
   ]
  },
  {
   "cell_type": "code",
   "execution_count": null,
   "metadata": {
    "collapsed": true
   },
   "outputs": [],
   "source": []
  }
 ],
 "metadata": {
  "kernelspec": {
   "display_name": "Python 2",
   "language": "python",
   "name": "python2"
  },
  "language_info": {
   "codemirror_mode": {
    "name": "ipython",
    "version": 2
   },
   "file_extension": ".py",
   "mimetype": "text/x-python",
   "name": "python",
   "nbconvert_exporter": "python",
   "pygments_lexer": "ipython2",
   "version": "2.7.9"
  },
  "name": "cds_ax_spark.ipynb"
 },
 "nbformat": 4,
 "nbformat_minor": 0
}